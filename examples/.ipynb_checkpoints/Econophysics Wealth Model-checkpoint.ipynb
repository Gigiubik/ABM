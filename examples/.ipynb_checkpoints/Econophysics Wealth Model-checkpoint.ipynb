{
 "cells": [
  {
   "cell_type": "markdown",
   "metadata": {},
   "source": [
    "# An Econophysics model of wealth distribution\n",
    "\n",
    "The model consists of:\n",
    "\n",
    "1. Some number of agents, who\n",
    "\n",
    "2. can have 0 or more units of Money, and \n",
    "\n",
    "3. if they have more than 0 units of money, (may) give 1 unit away at random.\n",
    "\n",
    "4. Additionally, they may be situated on a grid, where multiple agents can be on each cell, and where they give away money only to agents who share a cell with them.\n",
    "\n",
    "Then we measure the wealth distribution over time."
   ]
  },
  {
   "cell_type": "code",
   "execution_count": 1,
   "metadata": {
    "collapsed": true
   },
   "outputs": [],
   "source": [
    "import random\n",
    "import numpy as np\n",
    "import matplotlib.pyplot as plt\n",
    "%matplotlib inline\n",
    "\n",
    "# Mesa imports\n",
    "from mesa import Model, Agent\n",
    "from mesa.time import RandomActivation\n",
    "from mesa.datacollection import DataCollector\n",
    "from mesa.batchrunner import BatchRunner\n",
    "from mesa.space import MultiGrid"
   ]
  },
  {
   "cell_type": "markdown",
   "metadata": {},
   "source": [
    "## Simple Model"
   ]
  },
  {
   "cell_type": "code",
   "execution_count": 12,
   "metadata": {
    "collapsed": false
   },
   "outputs": [],
   "source": [
    "class MoneyAgent(Agent):\n",
    "    \"\"\" An agent with fixed initial wealth.\"\"\"\n",
    "    def __init__(self, unique_id):\n",
    "        # Each agent should have a unique_id\n",
    "        self.unique_id = unique_id \n",
    "        self.wealth = 1\n",
    "    \n",
    "    def step(self, m):\n",
    "        \"\"\"Give money to another agent.\"\"\"\n",
    "        if self.wealth > 0:\n",
    "            # Pick a random agent\n",
    "            other = random.choice(m.schedule.agents)\n",
    "            # Give them 1 unit money\n",
    "            other.wealth += 1\n",
    "            self.wealth -= 1        \n",
    "\n",
    "class MoneyModel(Model):\n",
    "    \"\"\"A model with some number of agents.\"\"\"\n",
    "    def __init__(self, N):\n",
    "        self.num_agents = N\n",
    "        self.schedule = RandomActivation(self)\n",
    "        self.create_agents()\n",
    "        agent_reporters = {\"Wealth\": lambda a: a.wealth}\n",
    "        self.dc = DataCollector(agent_reporters=agent_reporters)\n",
    "\n",
    "    def create_agents(self):\n",
    "        \"\"\"Method to create all the agents.\"\"\"\n",
    "        for i in range(self.num_agents):\n",
    "            a = MoneyAgent(i)\n",
    "            self.schedule.add(a)\n",
    "\n",
    "    def step(self):\n",
    "        self.schedule.step()\n",
    "        self.dc.collect(self)"
   ]
  },
  {
   "cell_type": "code",
   "execution_count": 39,
   "metadata": {
    "collapsed": true
   },
   "outputs": [],
   "source": [
    "model = MoneyModel(100)"
   ]
  },
  {
   "cell_type": "code",
   "execution_count": 40,
   "metadata": {
    "collapsed": false
   },
   "outputs": [],
   "source": [
    "for i in range(1000):\n",
    "    model.step()"
   ]
  },
  {
   "cell_type": "code",
   "execution_count": 41,
   "metadata": {
    "collapsed": false
   },
   "outputs": [],
   "source": [
    "wealths = model.dc.get_agent_vars_dataframe()"
   ]
  },
  {
   "cell_type": "code",
   "execution_count": 42,
   "metadata": {
    "collapsed": false
   },
   "outputs": [
    {
     "data": {
      "text/html": [
       "<div style=\"max-height:1000px;max-width:1500px;overflow:auto;\">\n",
       "<table border=\"1\" class=\"dataframe\">\n",
       "  <thead>\n",
       "    <tr style=\"text-align: right;\">\n",
       "      <th></th>\n",
       "      <th></th>\n",
       "      <th>Wealth</th>\n",
       "    </tr>\n",
       "    <tr>\n",
       "      <th>Step</th>\n",
       "      <th>AgentID</th>\n",
       "      <th></th>\n",
       "    </tr>\n",
       "  </thead>\n",
       "  <tbody>\n",
       "    <tr>\n",
       "      <th rowspan=\"5\" valign=\"top\">0</th>\n",
       "      <th>0</th>\n",
       "      <td> 0</td>\n",
       "    </tr>\n",
       "    <tr>\n",
       "      <th>1</th>\n",
       "      <td> 2</td>\n",
       "    </tr>\n",
       "    <tr>\n",
       "      <th>2</th>\n",
       "      <td> 0</td>\n",
       "    </tr>\n",
       "    <tr>\n",
       "      <th>3</th>\n",
       "      <td> 1</td>\n",
       "    </tr>\n",
       "    <tr>\n",
       "      <th>4</th>\n",
       "      <td> 1</td>\n",
       "    </tr>\n",
       "  </tbody>\n",
       "</table>\n",
       "</div>"
      ],
      "text/plain": [
       "              Wealth\n",
       "Step AgentID        \n",
       "0    0             0\n",
       "     1             2\n",
       "     2             0\n",
       "     3             1\n",
       "     4             1"
      ]
     },
     "execution_count": 42,
     "metadata": {},
     "output_type": "execute_result"
    }
   ],
   "source": [
    "wealths.head()"
   ]
  },
  {
   "cell_type": "code",
   "execution_count": 43,
   "metadata": {
    "collapsed": false
   },
   "outputs": [],
   "source": [
    "wealths.reset_index(inplace=True)"
   ]
  },
  {
   "cell_type": "code",
   "execution_count": 48,
   "metadata": {
    "collapsed": false
   },
   "outputs": [
    {
     "data": {
      "text/plain": [
       "8"
      ]
     },
     "execution_count": 48,
     "metadata": {},
     "output_type": "execute_result"
    }
   ],
   "source": [
    "wealths[wealths.Step==999].Wealth.max()"
   ]
  },
  {
   "cell_type": "code",
   "execution_count": 50,
   "metadata": {
    "collapsed": false
   },
   "outputs": [
    {
     "data": {
      "text/plain": [
       "<matplotlib.text.Text at 0x10b785c88>"
      ]
     },
     "execution_count": 50,
     "metadata": {},
     "output_type": "execute_result"
    },
    {
     "data": {
      "image/png": "[encoded data removed]",
      "text/plain": [
       "<matplotlib.figure.Figure at 0x10b0343c8>"
      ]
     },
     "metadata": {},
     "output_type": "display_data"
    }
   ],
   "source": [
    "wealths[wealths.Step==999].\\\n",
    "    Wealth.hist(bins=range(10))\n",
    "    \n",
    "plt.xlabel(\"Wealth\")\n",
    "plt.ylabel(\"Agent count\")\n",
    "plt.title(\"Histogram of agent wealth\\nafter 1,000 steps\")"
   ]
  },
  {
   "cell_type": "markdown",
   "metadata": {},
   "source": [
    "### With changeable initial wealth"
   ]
  },
  {
   "cell_type": "code",
   "execution_count": 24,
   "metadata": {
    "collapsed": true
   },
   "outputs": [],
   "source": [
    "class MoneyAgent(Agent):\n",
    "    \"\"\" An agent with fixed initial wealth.\"\"\"\n",
    "    def __init__(self, unique_id, wealth):\n",
    "        # Each agent should have a unique_id\n",
    "        self.unique_id = unique_id \n",
    "        self.wealth = wealth\n",
    "    \n",
    "    def step(self, m):\n",
    "        \"\"\"Give money to another agent.\"\"\"\n",
    "        if self.wealth > 0:\n",
    "            # Pick a random agent\n",
    "            other = random.choice(m.schedule.agents)\n",
    "            # Give them 1 unit money\n",
    "            other.wealth += 1\n",
    "            self.wealth -= 1        \n",
    "\n",
    "class MoneyModel(Model):\n",
    "    \"\"\"A model with some number of agents.\"\"\"\n",
    "    def __init__(self, N, starting_wealth):\n",
    "        self.running = True\n",
    "        self.num_agents = N\n",
    "        self.starting_wealth=starting_wealth\n",
    "        self.schedule = RandomActivation(self)\n",
    "        self.create_agents()\n",
    "        #agent_reporters = {\"Wealth\": lambda a: a.wealth}\n",
    "        #self.dc = DataCollector(agent_reporters=agent_reporters)\n",
    "\n",
    "    def create_agents(self):\n",
    "        \"\"\"Method to create all the agents.\"\"\"\n",
    "        for i in range(self.num_agents):\n",
    "            a = MoneyAgent(i, self.starting_wealth)\n",
    "            self.schedule.add(a)\n",
    "\n",
    "    def step(self):\n",
    "        self.schedule.step()\n",
    "        #self.dc.collect(self)"
   ]
  },
  {
   "cell_type": "code",
   "execution_count": 15,
   "metadata": {
    "collapsed": true
   },
   "outputs": [],
   "source": [
    "model = MoneyModel(100, 5)\n",
    "for _ in range(1000):\n",
    "    model.step()"
   ]
  },
  {
   "cell_type": "code",
   "execution_count": 79,
   "metadata": {
    "collapsed": false
   },
   "outputs": [
    {
     "data": {
      "text/plain": [
       "<matplotlib.text.Text at 0x1103454e0>"
      ]
     },
     "execution_count": 79,
     "metadata": {},
     "output_type": "execute_result"
    },
    {
     "data": {
      "image/png": "[encoded data removed]",
      "text/plain": [
       "<matplotlib.figure.Figure at 0x10f1eeac8>"
      ]
     },
     "metadata": {},
     "output_type": "display_data"
    }
   ],
   "source": [
    "wealths = model.dc.get_agent_vars_dataframe()\n",
    "wealths.reset_index(inplace=True)\n",
    "max_wealth = wealths[wealths.Step==999].Wealth.max()\n",
    "wealths[wealths.Step==999].\\\n",
    "    Wealth.hist(bins=range(max_wealth))\n",
    "    \n",
    "plt.xlabel(\"Wealth\")\n",
    "plt.ylabel(\"Agent count\")\n",
    "plt.title(\"Histogram of agent wealth\\nafter 1,000 steps\")"
   ]
  },
  {
   "cell_type": "code",
   "execution_count": 3,
   "metadata": {
    "collapsed": true
   },
   "outputs": [],
   "source": [
    "def compute_gini(model):\n",
    "    agent_wealths = [agent.wealth for agent in model.schedule.agents]\n",
    "    x = sorted(agent_wealths)\n",
    "    N = model.num_agents\n",
    "    B = sum( xi * (N-i) for i,xi in enumerate(x) ) / (N*sum(x))\n",
    "    return (1 + (1/N) - 2*B)"
   ]
  },
  {
   "cell_type": "code",
   "execution_count": 16,
   "metadata": {
    "collapsed": false
   },
   "outputs": [
    {
     "data": {
      "text/plain": [
       "0.54788"
      ]
     },
     "execution_count": 16,
     "metadata": {},
     "output_type": "execute_result"
    }
   ],
   "source": [
    "compute_gini(model)"
   ]
  },
  {
   "cell_type": "code",
   "execution_count": 41,
   "metadata": {
    "collapsed": false
   },
   "outputs": [],
   "source": [
    "param_values = {\"N\": 100, \"starting_wealth\": range(1,10)}\n",
    "model_reporter={\"Gini\": compute_gini}\n",
    "batch = BatchRunner(MoneyModel, param_values, 10, 1000, model_reporter)"
   ]
  },
  {
   "cell_type": "code",
   "execution_count": 42,
   "metadata": {
    "collapsed": false
   },
   "outputs": [],
   "source": [
    "batch.run_all()"
   ]
  },
  {
   "cell_type": "code",
   "execution_count": 43,
   "metadata": {
    "collapsed": true
   },
   "outputs": [],
   "source": [
    "df = batch.get_model_vars_dataframe()"
   ]
  },
  {
   "cell_type": "code",
   "execution_count": 44,
   "metadata": {
    "collapsed": false
   },
   "outputs": [
    {
     "data": {
      "text/plain": [
       "<matplotlib.text.Text at 0x1083e39b0>"
      ]
     },
     "execution_count": 44,
     "metadata": {},
     "output_type": "execute_result"
    },
    {
     "data": {
      "image/png": "[encoded data removed]",
      "text/plain": [
       "<matplotlib.figure.Figure at 0x10a529f60>"
      ]
     },
     "metadata": {},
     "output_type": "display_data"
    }
   ],
   "source": [
    "plt.scatter(df.starting_wealth, df.Gini, c='k')\n",
    "plt.grid(True)\n",
    "plt.xlabel(\"Starting wealth\")\n",
    "plt.ylabel(\"Gini Coefficient\")\n",
    "plt.title(\"Relationship between starting wealth\\nand Gini coefficient\")"
   ]
  },
  {
   "cell_type": "code",
   "execution_count": null,
   "metadata": {
    "collapsed": true
   },
   "outputs": [],
   "source": []
  },
  {
   "cell_type": "markdown",
   "metadata": {},
   "source": [
    "## With Grid"
   ]
  },
  {
   "cell_type": "code",
   "execution_count": 2,
   "metadata": {
    "collapsed": true
   },
   "outputs": [],
   "source": [
    "class Person(Agent):\n",
    "    wealth = 0\n",
    "    \n",
    "    def __init__(self, unique_id, pos, wealth=1):\n",
    "        '''\n",
    "        Create a new Agent\n",
    "        '''\n",
    "        self.unique_id = unique_id\n",
    "        self.pos = pos\n",
    "        self.wealth = wealth\n",
    "    \n",
    "    def move(self, model):\n",
    "        '''\n",
    "        Take a random step\n",
    "        '''\n",
    "        neighbors = model.grid.get_neighborhood(self.pos[0], self.pos[1], \n",
    "                                                moore=True, include_center=True)\n",
    "        choice = random.choice(neighbors) # Pick a random neighboring cell\n",
    "        if choice != self.pos:\n",
    "            model.grid.move_agent(self, choice) # Move agent to new position\n",
    "    \n",
    "    def exchange_money(self, model):\n",
    "        '''\n",
    "        Pick a random neighbor, and give them some money\n",
    "        '''\n",
    "        other_agents = model.grid.get_cell_list_contents([self.pos])\n",
    "        other_agent = self\n",
    "        if len(other_agents) > 1: # If there is anyone else here\n",
    "            while other_agent == self:\n",
    "                other_agent = random.choice(other_agents)\n",
    "            other_agent.wealth += 1\n",
    "            self.wealth -= 1\n",
    "    \n",
    "    def step(self, model):\n",
    "        self.move(model)\n",
    "        if self.wealth > 0:\n",
    "            self.exchange_money(model)"
   ]
  },
  {
   "cell_type": "code",
   "execution_count": 3,
   "metadata": {
    "collapsed": true
   },
   "outputs": [],
   "source": [
    "class MoneyModel(Model):\n",
    "    \n",
    "    # Model parameters\n",
    "    N = 100\n",
    "    width = 100\n",
    "    height = 100\n",
    "    torus = True\n",
    "    \n",
    "    def __init__(self, N, width, height, torus):\n",
    "        self.N = N\n",
    "        self.width = width\n",
    "        self.height = height\n",
    "        self.torus = torus\n",
    "        \n",
    "        self.schedule = RandomActivation(self)\n",
    "        self.grid = MultiGrid(self.height, self.width, self.torus)\n",
    "        \n",
    "        self.create_agents()\n",
    "    \n",
    "    def create_agents(self):\n",
    "        for i in range(self.N):\n",
    "            x = random.randrange(self.width)\n",
    "            y = random.randrange(self.height)\n",
    "            a = Person(i, (x,y))\n",
    "            self.schedule.add(a)\n",
    "            self.grid.place_agent(a, (x,y))\n",
    "    \n",
    "    def step(self):\n",
    "        self.schedule.step()"
   ]
  },
  {
   "cell_type": "code",
   "execution_count": 11,
   "metadata": {
    "collapsed": false
   },
   "outputs": [],
   "source": [
    "model = MoneyModel(1000, 100, 100, True)"
   ]
  },
  {
   "cell_type": "code",
   "execution_count": 12,
   "metadata": {
    "collapsed": false
   },
   "outputs": [],
   "source": [
    "for _ in range(1000):\n",
    "    model.step()"
   ]
  },
  {
   "cell_type": "code",
   "execution_count": 13,
   "metadata": {
    "collapsed": false
   },
   "outputs": [
    {
     "data": {
      "text/plain": [
       "(array([ 500.,  239.,  127.,   72.,   40.,   15.,    3.,    1.,    1.,\n",
       "           0.,    1.]),\n",
       " array([ 0,  1,  2,  3,  4,  5,  6,  7,  8,  9, 10, 11]),\n",
       " <a list of 11 Patch objects>)"
      ]
     },
     "execution_count": 13,
     "metadata": {},
     "output_type": "execute_result"
    },
    {
     "data": {
      "image/png": "[encoded data removed]",
      "text/plain": [
       "<matplotlib.figure.Figure at 0x2c1a8f7f0>"
      ]
     },
     "metadata": {},
     "output_type": "display_data"
    }
   ],
   "source": [
    "wealths = [agent.wealth for agent in model.schedule.agents]\n",
    "max_wealth = max(wealths)\n",
    "plt.hist(wealths, bins=range(max_wealth))"
   ]
  },
  {
   "cell_type": "markdown",
   "metadata": {},
   "source": [
    "### Static visualizing wealth distribution"
   ]
  },
  {
   "cell_type": "code",
   "execution_count": 17,
   "metadata": {
    "collapsed": false
   },
   "outputs": [],
   "source": [
    "wealth_grid = np.zeros((100, 100))"
   ]
  },
  {
   "cell_type": "code",
   "execution_count": 24,
   "metadata": {
    "collapsed": true
   },
   "outputs": [],
   "source": [
    "for cell in model.grid.coord_iter():\n",
    "    cell_wealth = 0\n",
    "    for person in cell[0]:\n",
    "        cell_wealth += person.wealth\n",
    "    wealth_grid[cell[2],cell[1]] = cell_wealth"
   ]
  },
  {
   "cell_type": "code",
   "execution_count": 26,
   "metadata": {
    "collapsed": false
   },
   "outputs": [
    {
     "data": {
      "text/plain": [
       "<matplotlib.image.AxesImage at 0x2c2024278>"
      ]
     },
     "execution_count": 26,
     "metadata": {},
     "output_type": "execute_result"
    },
    {
     "data": {
      "image/png": "[encoded data removed]",
      "text/plain": [
       "<matplotlib.figure.Figure at 0x2c1f1ed68>"
      ]
     },
     "metadata": {},
     "output_type": "display_data"
    }
   ],
   "source": [
    "plt.imshow(wealth_grid, interpolation='nearest')"
   ]
  },
  {
   "cell_type": "markdown",
   "metadata": {},
   "source": [
    "# Gridless Model"
   ]
  },
  {
   "cell_type": "code",
   "execution_count": 27,
   "metadata": {
    "collapsed": true
   },
   "outputs": [],
   "source": [
    "class Person(Agent):\n",
    "    wealth = 0\n",
    "    \n",
    "    def __init__(self, unique_id, wealth=1):\n",
    "        '''\n",
    "        Create a new Agent\n",
    "        '''\n",
    "        self.unique_id = unique_id\n",
    "        self.wealth = wealth\n",
    "    \n",
    "    def exchange_money(self, model):\n",
    "        '''\n",
    "        Pick a random neighbor, and give them some money\n",
    "        '''\n",
    "        other_agents = model.schedule.agents\n",
    "        other_agent = self\n",
    "        if len(other_agents) > 1: # If there is anyone else here\n",
    "            while other_agent == self:\n",
    "                other_agent = random.choice(other_agents)\n",
    "            other_agent.wealth += 1\n",
    "            self.wealth -= 1\n",
    "    \n",
    "    def step(self, model):\n",
    "        if self.wealth > 0:\n",
    "            self.exchange_money(model)"
   ]
  },
  {
   "cell_type": "code",
   "execution_count": 29,
   "metadata": {
    "collapsed": true
   },
   "outputs": [],
   "source": [
    "class MoneyModel(Model):\n",
    "    \n",
    "    # Model parameters\n",
    "    N = 100\n",
    "    def __init__(self, N):\n",
    "        self.N = N\n",
    "        self.schedule = RandomActivation(self)        \n",
    "        self.create_agents()\n",
    "    \n",
    "    def create_agents(self):\n",
    "        for i in range(self.N):\n",
    "            a = Person(i)\n",
    "            self.schedule.add(a)\n",
    "    \n",
    "    def step(self):\n",
    "        self.schedule.step()"
   ]
  },
  {
   "cell_type": "code",
   "execution_count": 33,
   "metadata": {
    "collapsed": true
   },
   "outputs": [],
   "source": [
    "model = MoneyModel(10000)"
   ]
  },
  {
   "cell_type": "code",
   "execution_count": 36,
   "metadata": {
    "collapsed": true
   },
   "outputs": [],
   "source": [
    "for _ in range(5000):\n",
    "    model.step()"
   ]
  },
  {
   "cell_type": "code",
   "execution_count": 37,
   "metadata": {
    "collapsed": false
   },
   "outputs": [
    {
     "data": {
      "text/plain": [
       "(array([  4.58300000e+03,   2.94700000e+03,   1.36300000e+03,\n",
       "          5.82000000e+02,   2.83000000e+02,   1.23000000e+02,\n",
       "          6.40000000e+01,   3.00000000e+01,   1.10000000e+01,\n",
       "          4.00000000e+00,   3.00000000e+00,   3.00000000e+00,\n",
       "          1.00000000e+00,   2.00000000e+00]),\n",
       " array([ 0,  1,  2,  3,  4,  5,  6,  7,  8,  9, 10, 11, 12, 13, 14]),\n",
       " <a list of 14 Patch objects>)"
      ]
     },
     "execution_count": 37,
     "metadata": {},
     "output_type": "execute_result"
    },
    {
     "data": {
      "image/png": "[encoded data removed]",
      "text/plain": [
       "<matplotlib.figure.Figure at 0x2c24bc438>"
      ]
     },
     "metadata": {},
     "output_type": "display_data"
    }
   ],
   "source": [
    "wealths = [agent.wealth for agent in model.schedule.agents]\n",
    "max_wealth = max(wealths)\n",
    "plt.hist(wealths, bins=range(max_wealth))"
   ]
  },
  {
   "cell_type": "code",
   "execution_count": null,
   "metadata": {
    "collapsed": true
   },
   "outputs": [],
   "source": []
  }
 ],
 "metadata": {
  "kernelspec": {
   "display_name": "Python 3",
   "language": "python",
   "name": "python3"
  },
  "language_info": {
   "codemirror_mode": {
    "name": "ipython",
    "version": 3
   },
   "file_extension": ".py",
   "mimetype": "text/x-python",
   "name": "python",
   "nbconvert_exporter": "python",
   "pygments_lexer": "ipython3",
   "version": "3.4.2"
  }
 },
 "nbformat": 4,
 "nbformat_minor": 0
}
