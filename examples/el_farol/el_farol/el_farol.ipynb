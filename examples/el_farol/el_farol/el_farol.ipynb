{
 "cells": [
  {
   "cell_type": "code",
   "execution_count": null,
   "metadata": {},
   "outputs": [],
   "source": [
    "from agents import *\n",
    "from model import *\n",
    "import numpy as np\n"
   ]
  },
  {
   "cell_type": "code",
   "execution_count": null,
   "metadata": {},
   "outputs": [],
   "source": [
    "models = [ElFarolBar(N=100, crowdthreshold=60, memory_size=m) for m in [5, 10, 20]]\n",
    "for model in models:\n",
    "    for i in range(400):\n",
    "        model.step()\n"
   ]
  },
  {
   "cell_type": "code",
   "execution_count": null,
   "metadata": {},
   "outputs": [],
   "source": [
    "import matplotlib.pyplot as plt\n",
    "\n",
    "n = 60\n",
    "plt.figure(figsize=(10, 3))\n",
    "ms = [5, 10, 20]\n",
    "for idx in range(3):\n",
    "    model = models[idx]\n",
    "    plt.subplot(1, 3, idx + 1)\n",
    "    df = model.datacollector.get_model_vars_dataframe()\n",
    "    plt.plot(df[\"Customers\"])\n",
    "    plt.xlabel(\"Step\")\n",
    "    plt.ylabel(\"Attendance\")\n",
    "    plt.ylim([20, 80])\n",
    "    plt.title(\"memory size = \" + str(ms[idx]))\n",
    "    plt.hlines(n, 0, 400, \"r\")\n",
    "    plt.tight_layout()\n",
    "plt.show()\n",
    "# plt.savefig('memorysize.png',dpi = 300)\n"
   ]
  },
  {
   "cell_type": "code",
   "execution_count": null,
   "metadata": {},
   "outputs": [],
   "source": [
    "for idx in range(len(ms)):\n",
    "    model = models[idx]\n",
    "    df = model.datacollector.get_agent_vars_dataframe()\n",
    "    plt.plot(df[\"Utility\"].groupby(\"Step\").mean(), label=str(ms[idx]))\n",
    "plt.legend()\n",
    "plt.show()\n"
   ]
  },
  {
   "cell_type": "code",
   "execution_count": null,
   "metadata": {},
   "outputs": [],
   "source": [
    "# decisions made on across trials\n",
    "import seaborn as sns\n",
    "\n",
    "plt.figure(figsize=(12, 4))\n",
    "for idx in range(len(ms)):\n",
    "    plt.subplot(1, 3, idx + 1)\n",
    "    model = models[idx]\n",
    "    df = model.datacollector.get_agent_vars_dataframe()\n",
    "    df.reset_index(inplace=True)\n",
    "    sns.heatmap(df.pivot(index=\"AgentID\", columns=\"Step\", values=\"Attendance\"))\n",
    "    plt.tight_layout()\n",
    "    plt.title(\"Memory size = \" + str(ms[idx]))\n",
    "plt.legend()\n",
    "plt.savefig(\"Memorysize.heatmap.png\")\n"
   ]
  },
  {
   "cell_type": "code",
   "execution_count": null,
   "metadata": {},
   "outputs": [],
   "source": [
    "nss = [5, 10, 20]\n",
    "n = 60\n",
    "models = [ElFarolBar(N=100, crowdthreshold=n, num_strategies=ns) for ns in nss]\n",
    "for model in models:\n",
    "    for i in range(400):\n",
    "        model.step()\n"
   ]
  },
  {
   "cell_type": "code",
   "execution_count": null,
   "metadata": {},
   "outputs": [],
   "source": [
    "# attdance of the bar\n",
    "plt.figure(figsize=(10, 3))\n",
    "\n",
    "for idx in range(len(nss)):\n",
    "    model = models[idx]\n",
    "    plt.subplot(1, 3, idx + 1)\n",
    "    df = model.datacollector.get_model_vars_dataframe()\n",
    "    plt.plot(df[\"Customers\"])\n",
    "    plt.xlabel(\"Trial\")\n",
    "    plt.ylabel(\"Attendance\")\n",
    "    plt.ylim([20, 80])\n",
    "    plt.title(\"Number of Strategies = \" + str(nss[idx]))\n",
    "    plt.hlines(n, 0, 200, \"r\")\n",
    "    plt.tight_layout()\n",
    "plt.savefig(\"builtin_model.png\", dpi=300)\n"
   ]
  },
  {
   "cell_type": "code",
   "execution_count": null,
   "metadata": {},
   "outputs": [],
   "source": [
    "# Cognitive based model IBLT\n"
   ]
  },
  {
   "cell_type": "code",
   "execution_count": null,
   "metadata": {},
   "outputs": [],
   "source": [
    "n = 50\n",
    "trials = 400\n",
    "models = [\n",
    "    ElFarolBarIBLT(N=100, crowdthreshold=n, decay={0.1: 1}),\n",
    "    ElFarolBarIBLT(N=100, crowdthreshold=n, decay={1: 1}),\n",
    "    ElFarolBarIBLT(N=100, crowdthreshold=n, decay={2.5: 1}),\n",
    "    ElFarolBarIBLT(N=100, crowdthreshold=n, decay={5: 1}),\n",
    "]\n",
    "\n",
    "for model in models:\n",
    "    for i in range(trials):\n",
    "        model.step()\n"
   ]
  },
  {
   "cell_type": "code",
   "execution_count": null,
   "metadata": {},
   "outputs": [],
   "source": [
    "import seaborn as sns\n",
    "\n",
    "d = [0.1, 1, 2.5, 5]\n",
    "plt.figure(figsize=(20, 10))\n",
    "for idx in range(4):\n",
    "    plt.subplot(2, 2, idx + 1)\n",
    "    model = models[idx]\n",
    "    df = model.datacollector.get_agent_vars_dataframe()\n",
    "    df.reset_index(inplace=True)\n",
    "    sns.heatmap(df.pivot(index=\"AgentID\", columns=\"Step\", values=\"Attendance\"))\n",
    "    plt.tight_layout()\n",
    "    plt.title(\"d = \" + str(d[idx]))\n",
    "plt.show()\n",
    "# plt.savefig('attendance.homogeneous.png',dpi= 300)\n"
   ]
  },
  {
   "cell_type": "code",
   "execution_count": null,
   "metadata": {},
   "outputs": [],
   "source": [
    "d = [0.1, 1, 2.5, 5]\n",
    "plt.figure(figsize=(20, 10))\n",
    "for idx in range(4):\n",
    "    plt.subplot(2, 2, idx + 1)\n",
    "    model = models[idx]\n",
    "    df = model.datacollector.get_model_vars_dataframe()\n",
    "    plt.plot(df[\"Customers\"], label=str(d[idx]))\n",
    "    plt.ylim([20, 90])\n",
    "    plt.title(\"d = \" + str(d[idx]))\n",
    "    plt.hlines(n, 0, 400, \"r\")\n",
    "    plt.xlabel(\"Step\")\n",
    "    plt.ylabel(\"Attendance\")\n",
    "plt.show()\n",
    "# plt.savefig('cog_homogeneous.png',dpi = 300)\n"
   ]
  },
  {
   "cell_type": "code",
   "execution_count": null,
   "metadata": {},
   "outputs": [],
   "source": [
    "import matplotlib.pyplot as plt\n",
    "\n",
    "d = [0.1, 1, 2.5, 5]\n",
    "for idx in range(4):\n",
    "    plt.subplot(2, 2, idx + 1)\n",
    "    model = models[idx]\n",
    "    df = model.datacollector.get_agent_vars_dataframe()\n",
    "    plt.plot(df[\"Utility\"].groupby(\"Step\").mean(), label=str(d[idx]))\n",
    "plt.legend()\n",
    "plt.show()\n"
   ]
  },
  {
   "cell_type": "code",
   "execution_count": null,
   "metadata": {},
   "outputs": [],
   "source": [
    "n = 60\n",
    "trials = 400\n",
    "decays = {\n",
    "    \"90:10\": {0.1: 0.9, 2.5: 0.1},\n",
    "    \"75:25\": {0.1: 0.75, 2.5: 0.25},\n",
    "    \"50:50\": {0.1: 0.5, 2.5: 0.5},\n",
    "    \"25:75\": {0.1: 0.25, 2.5: 0.75},\n",
    "    \"10:90\": {0.1: 0.1, 2.5: 0.9},\n",
    "}\n",
    "models = {\n",
    "    name: ElFarolBarIBLT(N=100, crowdthreshold=n, decay=d) for name, d in decays.items()\n",
    "}\n",
    "\n",
    "for _, model in models.items():\n",
    "    for i in range(trials):\n",
    "        model.step()\n"
   ]
  },
  {
   "cell_type": "code",
   "execution_count": null,
   "metadata": {},
   "outputs": [],
   "source": [
    "plt.figure(figsize=(20, 10))\n",
    "idx = 1\n",
    "for name, model in models.items():\n",
    "    plt.subplot(2, 3, idx)\n",
    "    df = model.datacollector.get_model_vars_dataframe()\n",
    "    plt.plot(df[\"Customers\"], label=name)\n",
    "    plt.ylim([20, 90])\n",
    "    plt.title(\"Split ratio = \" + name)\n",
    "    plt.hlines(n, 0, 400, \"r\")\n",
    "    idx = idx + 1\n",
    "    plt.xlabel(\"Step\")\n",
    "    plt.ylabel(\"Attendance\")\n",
    "plt.show()\n",
    "# plt.savefig('Heterogeneity.png',dpi = 300)\n"
   ]
  },
  {
   "cell_type": "code",
   "execution_count": null,
   "metadata": {},
   "outputs": [],
   "source": [
    "plt.figure(figsize=(20, 10))\n",
    "idx = 1\n",
    "for name, model in models.items():\n",
    "    plt.subplot(2, 3, idx)\n",
    "    df = model.datacollector.get_agent_vars_dataframe()\n",
    "    plt.plot(\n",
    "        df[df[\"Decay\"] == 0.1][\"Utility\"].groupby(\"Step\").mean(), label=\"decay = 0.1\"\n",
    "    )\n",
    "    plt.plot(\n",
    "        df[df[\"Decay\"] == 2.5][\"Utility\"].groupby(\"Step\").mean(), label=\"decay = 2.5\"\n",
    "    )\n",
    "    plt.legend()\n",
    "    # plt.plot(df['Customers'],label = name)\n",
    "    plt.ylim([-80, 20])\n",
    "    plt.title(\"Split ratio = \" + name)\n",
    "    idx += 1\n",
    "    plt.ylabel(\"Reward\")\n",
    "    plt.xlabel(\"Step\")\n",
    "plt.show()\n",
    "# plt.savefig('Heterogeneity.reward.png',dpi = 300)\n"
   ]
  },
  {
   "cell_type": "code",
   "execution_count": null,
   "metadata": {},
   "outputs": [],
   "source": [
    "import seaborn as sns\n",
    "\n",
    "plt.figure(figsize=(20, 10))\n",
    "idx = 1\n",
    "for name, model in models.items():\n",
    "    plt.subplot(2, 3, idx)\n",
    "    df = model.datacollector.get_agent_vars_dataframe()\n",
    "    df.reset_index(inplace=True)\n",
    "    sns.heatmap(df.pivot(index=\"AgentID\", columns=\"Step\", values=\"Attendance\"))\n",
    "    plt.tight_layout()\n",
    "    plt.title(name)\n",
    "    idx += 1\n",
    "plt.savefig(\"Heterogeneity.heatmap.png\", dpi=300)\n"
   ]
  },
  {
   "cell_type": "code",
   "execution_count": null,
   "metadata": {},
   "outputs": [],
   "source": [
    "n = 60\n",
    "trials = 400\n",
    "rep = 20\n",
    "\n",
    "decays = [0.1, 1, 2.5, 5]\n",
    "models = [\n",
    "    ElFarolBarIBLT(N=100, crowdthreshold=n, decay={d: 1})\n",
    "    for d in decays\n",
    "    for i in range(rep)\n",
    "]\n",
    "len(models)\n"
   ]
  },
  {
   "cell_type": "code",
   "execution_count": null,
   "metadata": {},
   "outputs": [],
   "source": [
    "from tqdm import tqdm\n",
    "\n",
    "n = 60\n",
    "trials = 400\n",
    "decays = {\n",
    "    \"90:10\": {0.1: 0.9, 2.5: 0.1},\n",
    "    \"75:25\": {0.1: 0.75, 2.5: 0.25},\n",
    "    \"50:50\": {0.1: 0.5, 2.5: 0.5},\n",
    "    \"25:75\": {0.1: 0.25, 2.5: 0.75},\n",
    "    \"10:90\": {0.1: 0.1, 2.5: 0.9},\n",
    "}\n",
    "models = [\n",
    "    ElFarolBarIBLT(N=100, crowdthreshold=n, decay=d)\n",
    "    for name, d in decays.items()\n",
    "    for i in range(rep)\n",
    "]\n",
    "\n",
    "for model in tqdm(models):\n",
    "    for i in range(trials):\n",
    "        model.step()\n"
   ]
  },
  {
   "cell_type": "code",
   "execution_count": null,
   "metadata": {},
   "outputs": [],
   "source": [
    "stds = []\n",
    "for model in models:\n",
    "    df = model.datacollector.get_model_vars_dataframe()\n",
    "    df.reset_index(inplace=True)\n",
    "    stds.append(df[df[\"index\"] > 200][\"Customers\"].std())\n",
    "print(decays.keys())\n",
    "print(np.array(stds).reshape(5, 20).mean(axis=1))\n",
    "print(np.array(stds).reshape(5, 20).std(axis=1))\n"
   ]
  }
 ],
 "metadata": {
  "interpreter": {
   "hash": "18b8a6ab22c23ac88fce14986952a46f0d293914064547c699eac09fb58cfe0f"
  },
  "kernelspec": {
   "display_name": "Python 3.8.3 64-bit ('base': conda)",
   "name": "python3"
  },
  "language_info": {
   "codemirror_mode": {
    "name": "ipython",
    "version": 3
   },
   "file_extension": ".py",
   "mimetype": "text/x-python",
   "name": "python",
   "nbconvert_exporter": "python",
   "pygments_lexer": "ipython3",
   "version": "3.8.3"
  }
 },
 "nbformat": 4,
 "nbformat_minor": 4
}
