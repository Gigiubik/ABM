{
 "cells": [
  {
   "cell_type": "code",
   "execution_count": 40,
   "metadata": {},
   "outputs": [],
   "source": [
    "    \n",
    "from mesa.space import MultiGrid\n",
    "from mesa import Model\n",
    "from mesa.time import RandomActivation\n",
    "import numpy as np\n",
    "from queue import Queue\n",
    "\n",
    "\n",
    "class ElFarolBar(Model):\n",
    "    def __init__(self, crowdthreshold=60,num_strategies=10,memory_size = 10,width = 100,height = 100,N=100):\n",
    "        self.running = True \n",
    "        self.num_agents = N\n",
    "        self.schedule = RandomActivation(self)\n",
    "        self.grid = MultiGrid(width, height, True)\n",
    "        self.history = np.random.randint(0,100,size = memory_size*2).tolist()\n",
    "        self.attendance = self.history[0]\n",
    "\n",
    "\n",
    "        for i in range(self.num_agents):\n",
    "            a = BarCustomer(i,self, num_strategies,memory_size,crowdthreshold) \n",
    "            self.schedule.add(a)\n",
    "        self.datacollector = DataCollector(\n",
    "            model_reporters ={'Customers':\"attendance\"})\n",
    "            #agent_reporters={\"Bar\": \"Bar\"})\n",
    "    def step(self):\n",
    "        self.attendance = 0\n",
    "        self.datacollector.collect(self)\n",
    "        self.schedule.step()\n",
    "        self.history.pop(0)\n",
    "        self.history.append(self.attendance)\n",
    "        \n"
   ]
  },
  {
   "cell_type": "code",
   "execution_count": 41,
   "metadata": {},
   "outputs": [],
   "source": [
    "from mesa import Agent\n",
    "from mesa.datacollection import DataCollector\n",
    "\n",
    "class BarCustomer(Agent):\n",
    "    def __init__(self, unique_id, model,num_strategies,memory_size,crowdthreshold):\n",
    "        super().__init__(unique_id, model)\n",
    "        self.strategies = np.random.rand(num_strategies+1)-1\n",
    "        self.best_strategy = self.strategies[0]\n",
    "        self.attend = False\n",
    "        self.memory = np.zeros(memory_size)\n",
    "        self.crowdthreshold = crowdthreshold\n",
    "        self.update_strategies()\n",
    "#        print(self.model.history)\n",
    "\n",
    "    #need to add step method here, to activate make_decision\n",
    "    def step(self):\n",
    "        prediction = self.predict_attendance()\n",
    "        if prediction<=self.crowdthreshold:\n",
    "            self.attend = True\n",
    "            self.model.attendance = self.model.attendance +1\n",
    "        else: \n",
    "            self.attend = False\n",
    "        self.update_strategies()\n",
    "    \n",
    "    def update_strategies(self):\n",
    "        best_score = float('inf')\n",
    "        for strategy in self.strategies:\n",
    "            score, week = 0,1\n",
    "            \n",
    "            if score <= best_score:\n",
    "                best_score = score\n",
    "                self.best_strategy = \n",
    "    \n",
    "    def predict_attendance(self,strategy,subhistory):\n",
    "        \n",
    "        return None\n",
    "    "
   ]
  },
  {
   "cell_type": "code",
   "execution_count": 42,
   "metadata": {},
   "outputs": [],
   "source": [
    "model = ElFarolBar(N=5)"
   ]
  },
  {
   "cell_type": "code",
   "execution_count": 17,
   "metadata": {},
   "outputs": [
    {
     "data": {
      "text/plain": [
       "array([83, 98,  0, 24, 51, 87, 23, 50, 66, 37, 58, 41, 16,  3,  9,  3, 17,\n",
       "       41, 40, 13])"
      ]
     },
     "execution_count": 17,
     "metadata": {},
     "output_type": "execute_result"
    }
   ],
   "source": [
    "model.history"
   ]
  },
  {
   "cell_type": "code",
   "execution_count": 18,
   "metadata": {},
   "outputs": [
    {
     "name": "stdout",
     "output_type": "stream",
     "text": [
      "one step\n",
      "one step\n",
      "one step\n",
      "one step\n",
      "one step\n"
     ]
    }
   ],
   "source": [
    "model.step()"
   ]
  },
  {
   "cell_type": "code",
   "execution_count": 38,
   "metadata": {},
   "outputs": [
    {
     "name": "stdout",
     "output_type": "stream",
     "text": [
      "0\n"
     ]
    }
   ],
   "source": [
    " \n",
    "from queue import Queue\n",
    " \n",
    "# Initializing a queue\n",
    "q = Queue(maxsize = 3)\n",
    " \n",
    "# qsize() give the maxsize\n",
    "# of the Queue\n",
    "print(q.qsize())\n",
    " \n",
    "# Adding of element to queue\n",
    "q.put('a')\n",
    "q.put('b')\n",
    "q.put('c')\n",
    " "
   ]
  },
  {
   "cell_type": "code",
   "execution_count": null,
   "metadata": {},
   "outputs": [],
   "source": []
  }
 ],
 "metadata": {
  "kernelspec": {
   "display_name": "Python 3",
   "language": "python",
   "name": "python3"
  },
  "language_info": {
   "codemirror_mode": {
    "name": "ipython",
    "version": 3
   },
   "file_extension": ".py",
   "mimetype": "text/x-python",
   "name": "python",
   "nbconvert_exporter": "python",
   "pygments_lexer": "ipython3",
   "version": "3.8.3"
  }
 },
 "nbformat": 4,
 "nbformat_minor": 4
}
